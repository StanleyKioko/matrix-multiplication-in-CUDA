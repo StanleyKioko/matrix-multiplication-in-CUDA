{
  "cells": [
    {
      "cell_type": "code",
      "execution_count": 7,
      "metadata": {
        "colab": {
          "base_uri": "https://localhost:8080/"
        },
        "id": "NaM1IpBmniVD",
        "outputId": "2a3a8f45-9afa-4e11-b39e-60d74c1aef2f"
      },
      "outputs": [
        {
          "output_type": "stream",
          "name": "stdout",
          "text": [
            "Reading package lists... Done\n",
            "Building dependency tree... Done\n",
            "Reading state information... Done\n",
            "The following additional packages will be installed:\n",
            "  cpp-12 cuda-12-3 cuda-cccl-12-3 cuda-command-line-tools-12-3 cuda-compiler-12-3 cuda-crt-12-3\n",
            "  cuda-cudart-12-3 cuda-cudart-dev-12-3 cuda-cuobjdump-12-3 cuda-cupti-12-3 cuda-cupti-dev-12-3\n",
            "  cuda-cuxxfilt-12-3 cuda-demo-suite-12-3 cuda-documentation-12-3 cuda-driver-dev-12-3 cuda-drivers\n",
            "  cuda-drivers-550 cuda-gdb-12-3 cuda-libraries-12-3 cuda-libraries-dev-12-3 cuda-nsight-12-3\n",
            "  cuda-nsight-compute-12-3 cuda-nsight-systems-12-3 cuda-nvcc-12-3 cuda-nvdisasm-12-3\n",
            "  cuda-nvml-dev-12-3 cuda-nvprof-12-3 cuda-nvprune-12-3 cuda-nvrtc-12-3 cuda-nvrtc-dev-12-3\n",
            "  cuda-nvtx-12-3 cuda-nvvm-12-3 cuda-nvvp-12-3 cuda-opencl-12-3 cuda-opencl-dev-12-3\n",
            "  cuda-profiler-api-12-3 cuda-runtime-12-3 cuda-sanitizer-12-3 cuda-toolkit-12-3\n",
            "  cuda-toolkit-12-3-config-common cuda-tools-12-3 cuda-visual-tools-12-3 dctrl-tools default-jre\n",
            "  default-jre-headless dkms fakeroot fonts-dejavu-core fonts-dejavu-extra gcc-12 gds-tools-12-3\n",
            "  keyboard-configuration libasan8 libatk-wrapper-java libatk-wrapper-java-jni libcublas-12-3\n",
            "  libcublas-dev-12-3 libcufft-12-3 libcufft-dev-12-3 libcufile-12-3 libcufile-dev-12-3\n",
            "  libcurand-12-3 libcurand-dev-12-3 libcusolver-12-3 libcusolver-dev-12-3 libcusparse-12-3\n",
            "  libcusparse-dev-12-3 libfakeroot libfontenc1 libgcc-12-dev libjansson4 liblocale-gettext-perl\n",
            "  libnpp-12-3 libnpp-dev-12-3 libnvidia-cfg1-550 libnvidia-common-550 libnvidia-compute-550\n",
            "  libnvidia-decode-550 libnvidia-encode-550 libnvidia-extra-550 libnvidia-fbc1-550 libnvidia-gl-550\n",
            "  libnvjitlink-12-3 libnvjitlink-dev-12-3 libnvjpeg-12-3 libnvjpeg-dev-12-3 libtinfo5 libtsan2\n",
            "  libudev1 libxcb-icccm4 libxcb-image0 libxcb-keysyms1 libxcb-render-util0 libxcb-util1\n",
            "  libxcb-xinerama0 libxcb-xinput0 libxcb-xkb1 libxcvt0 libxfont2 libxkbcommon-x11-0 libxkbfile1\n",
            "  libxtst6 libxxf86dga1 nsight-compute-2023.3.1 nsight-systems-2023.3.3 nvidia-compute-utils-550\n",
            "  nvidia-dkms-550 nvidia-driver-550 nvidia-firmware-550-550.54.14 nvidia-kernel-common-550\n",
            "  nvidia-kernel-source-550 nvidia-prime nvidia-settings nvidia-utils-550 openjdk-11-jre\n",
            "  python3-xkit screen-resolution-extra systemd-hwe-hwdb udev x11-utils x11-xkb-utils xcvt\n",
            "  xfonts-base xfonts-encodings xfonts-utils xserver-common xserver-xorg-core\n",
            "  xserver-xorg-video-nvidia-550\n",
            "Suggested packages:\n",
            "  gcc-12-locales cpp-12-doc debtags menu gcc-12-multilib gcc-12-doc mesa-utils xfs | xserver\n",
            "  xfonts-100dpi | xfonts-75dpi xfonts-scalable\n",
            "Recommended packages:\n",
            "  libnvidia-compute-550:i386 libnvidia-decode-550:i386 libnvidia-encode-550:i386\n",
            "  libnvidia-fbc1-550:i386 libnvidia-gl-550:i386\n",
            "The following NEW packages will be installed:\n",
            "  cpp-12 cuda cuda-12-3 cuda-cccl-12-3 cuda-command-line-tools-12-3 cuda-compiler-12-3\n",
            "  cuda-crt-12-3 cuda-cudart-12-3 cuda-cudart-dev-12-3 cuda-cuobjdump-12-3 cuda-cupti-12-3\n",
            "  cuda-cupti-dev-12-3 cuda-cuxxfilt-12-3 cuda-demo-suite-12-3 cuda-documentation-12-3\n",
            "  cuda-driver-dev-12-3 cuda-drivers cuda-drivers-550 cuda-gdb-12-3 cuda-libraries-12-3\n",
            "  cuda-libraries-dev-12-3 cuda-nsight-12-3 cuda-nsight-compute-12-3 cuda-nsight-systems-12-3\n",
            "  cuda-nvcc-12-3 cuda-nvdisasm-12-3 cuda-nvml-dev-12-3 cuda-nvprof-12-3 cuda-nvprune-12-3\n",
            "  cuda-nvrtc-12-3 cuda-nvrtc-dev-12-3 cuda-nvtx-12-3 cuda-nvvm-12-3 cuda-nvvp-12-3 cuda-opencl-12-3\n",
            "  cuda-opencl-dev-12-3 cuda-profiler-api-12-3 cuda-runtime-12-3 cuda-sanitizer-12-3\n",
            "  cuda-toolkit-12-3 cuda-toolkit-12-3-config-common cuda-tools-12-3 cuda-visual-tools-12-3\n",
            "  dctrl-tools default-jre default-jre-headless dkms fakeroot fonts-dejavu-core fonts-dejavu-extra\n",
            "  gcc-12 gds-tools-12-3 keyboard-configuration libasan8 libatk-wrapper-java libatk-wrapper-java-jni\n",
            "  libcublas-12-3 libcublas-dev-12-3 libcufft-12-3 libcufft-dev-12-3 libcufile-12-3\n",
            "  libcufile-dev-12-3 libcurand-12-3 libcurand-dev-12-3 libcusolver-12-3 libcusolver-dev-12-3\n",
            "  libcusparse-12-3 libcusparse-dev-12-3 libfakeroot libfontenc1 libgcc-12-dev libjansson4\n",
            "  liblocale-gettext-perl libnpp-12-3 libnpp-dev-12-3 libnvidia-cfg1-550 libnvidia-common-550\n",
            "  libnvidia-compute-550 libnvidia-decode-550 libnvidia-encode-550 libnvidia-extra-550\n",
            "  libnvidia-fbc1-550 libnvidia-gl-550 libnvjitlink-12-3 libnvjitlink-dev-12-3 libnvjpeg-12-3\n",
            "  libnvjpeg-dev-12-3 libtinfo5 libtsan2 libxcb-icccm4 libxcb-image0 libxcb-keysyms1\n",
            "  libxcb-render-util0 libxcb-util1 libxcb-xinerama0 libxcb-xinput0 libxcb-xkb1 libxcvt0 libxfont2\n",
            "  libxkbcommon-x11-0 libxkbfile1 libxtst6 libxxf86dga1 nsight-compute-2023.3.1\n",
            "  nsight-systems-2023.3.3 nvidia-compute-utils-550 nvidia-dkms-550 nvidia-driver-550\n",
            "  nvidia-firmware-550-550.54.14 nvidia-kernel-common-550 nvidia-kernel-source-550 nvidia-prime\n",
            "  nvidia-settings nvidia-utils-550 openjdk-11-jre python3-xkit screen-resolution-extra\n",
            "  systemd-hwe-hwdb udev x11-utils x11-xkb-utils xcvt xfonts-base xfonts-encodings xfonts-utils\n",
            "  xserver-common xserver-xorg-core xserver-xorg-video-nvidia-550\n",
            "The following packages will be upgraded:\n",
            "  libudev1\n",
            "1 upgraded, 128 newly installed, 0 to remove and 34 not upgraded.\n",
            "Need to get 3,171 MB of archives.\n",
            "After this operation, 7,357 MB of additional disk space will be used.\n",
            "Get:1 https://developer.download.nvidia.com/compute/cuda/repos/ubuntu2204/x86_64  cuda-toolkit-12-3-config-common 12.3.101-1 [16.3 kB]\n",
            "Get:2 https://developer.download.nvidia.com/compute/cuda/repos/ubuntu2204/x86_64  cuda-cudart-12-3 12.3.101-1 [164 kB]\n",
            "Get:3 https://developer.download.nvidia.com/compute/cuda/repos/ubuntu2204/x86_64  cuda-nvrtc-12-3 12.3.107-1 [17.6 MB]\n",
            "Get:4 http://archive.ubuntu.com/ubuntu jammy/main amd64 liblocale-gettext-perl amd64 1.07-4build3 [17.1 kB]\n",
            "Get:5 http://archive.ubuntu.com/ubuntu jammy/main amd64 keyboard-configuration all 1.205ubuntu3 [206 kB]\n",
            "Get:6 https://developer.download.nvidia.com/compute/cuda/repos/ubuntu2204/x86_64  cuda-opencl-12-3 12.3.101-1 [23.8 kB]\n",
            "Get:7 https://developer.download.nvidia.com/compute/cuda/repos/ubuntu2204/x86_64  libcublas-12-3 12.3.4.1-1 [244 MB]\n",
            "Get:8 http://archive.ubuntu.com/ubuntu jammy-updates/main amd64 cpp-12 amd64 12.3.0-1ubuntu1~22.04 [10.8 MB]\n",
            "Get:9 http://archive.ubuntu.com/ubuntu jammy-updates/main amd64 libasan8 amd64 12.3.0-1ubuntu1~22.04 [2,442 kB]\n",
            "Get:10 http://archive.ubuntu.com/ubuntu jammy-updates/main amd64 libtsan2 amd64 12.3.0-1ubuntu1~22.04 [2,477 kB]\n",
            "Get:11 http://archive.ubuntu.com/ubuntu jammy-updates/main amd64 libgcc-12-dev amd64 12.3.0-1ubuntu1~22.04 [2,618 kB]\n",
            "Get:12 http://archive.ubuntu.com/ubuntu jammy-updates/main amd64 gcc-12 amd64 12.3.0-1ubuntu1~22.04 [21.7 MB]\n",
            "Get:13 http://archive.ubuntu.com/ubuntu jammy/main amd64 dctrl-tools amd64 2.24-3build2 [66.9 kB]\n",
            "Get:14 http://archive.ubuntu.com/ubuntu jammy-updates/main amd64 dkms all 2.8.7-2ubuntu2.2 [70.1 kB]\n",
            "Get:15 http://archive.ubuntu.com/ubuntu jammy-updates/main amd64 libudev1 amd64 249.11-0ubuntu3.12 [78.2 kB]\n",
            "Get:16 http://archive.ubuntu.com/ubuntu jammy-updates/main amd64 udev amd64 249.11-0ubuntu3.12 [1,557 kB]\n",
            "Get:17 http://archive.ubuntu.com/ubuntu jammy/main amd64 libjansson4 amd64 2.13.1-1.1build3 [32.4 kB]\n",
            "Get:18 http://archive.ubuntu.com/ubuntu jammy/main amd64 libxkbfile1 amd64 1:1.1.0-1build3 [71.8 kB]\n",
            "Get:19 http://archive.ubuntu.com/ubuntu jammy/main amd64 x11-xkb-utils amd64 7.7+5build4 [172 kB]\n",
            "Get:20 http://archive.ubuntu.com/ubuntu jammy-updates/main amd64 xserver-common all 2:21.1.4-2ubuntu1.7~22.04.8 [28.6 kB]\n",
            "Get:21 http://archive.ubuntu.com/ubuntu jammy/main amd64 libxcvt0 amd64 0.1.1-3 [5,494 B]\n",
            "Get:22 http://archive.ubuntu.com/ubuntu jammy/main amd64 libfontenc1 amd64 1:1.1.4-1build3 [14.7 kB]\n",
            "Get:23 http://archive.ubuntu.com/ubuntu jammy/main amd64 libxfont2 amd64 1:2.0.5-1build1 [94.5 kB]\n",
            "Get:24 http://archive.ubuntu.com/ubuntu jammy-updates/main amd64 xserver-xorg-core amd64 2:21.1.4-2ubuntu1.7~22.04.8 [1,477 kB]\n",
            "Get:25 http://archive.ubuntu.com/ubuntu jammy-updates/universe amd64 libtinfo5 amd64 6.3-2ubuntu0.1 [100 kB]\n",
            "Get:26 http://archive.ubuntu.com/ubuntu jammy/main amd64 libxcb-xinerama0 amd64 1.14-3ubuntu3 [5,414 B]\n",
            "Get:27 http://archive.ubuntu.com/ubuntu jammy/main amd64 libxcb-icccm4 amd64 0.4.1-1.1build2 [11.5 kB]\n",
            "Get:28 http://archive.ubuntu.com/ubuntu jammy/main amd64 libxcb-util1 amd64 0.4.0-1build2 [11.4 kB]\n",
            "Get:29 http://archive.ubuntu.com/ubuntu jammy/main amd64 libxcb-image0 amd64 0.4.0-2 [11.5 kB]\n",
            "Get:30 http://archive.ubuntu.com/ubuntu jammy/main amd64 libxcb-keysyms1 amd64 0.4.0-1build3 [8,746 B]\n",
            "Get:31 http://archive.ubuntu.com/ubuntu jammy/main amd64 libxcb-render-util0 amd64 0.3.9-1build3 [10.3 kB]\n",
            "Get:32 http://archive.ubuntu.com/ubuntu jammy/main amd64 libxcb-xkb1 amd64 1.14-3ubuntu3 [32.8 kB]\n",
            "Get:33 http://archive.ubuntu.com/ubuntu jammy/main amd64 libxkbcommon-x11-0 amd64 1.4.0-1 [14.4 kB]\n",
            "Get:34 http://archive.ubuntu.com/ubuntu jammy/main amd64 libxcb-xinput0 amd64 1.14-3ubuntu3 [34.3 kB]\n",
            "Get:35 http://archive.ubuntu.com/ubuntu jammy/main amd64 libxtst6 amd64 2:1.2.3-1build4 [13.4 kB]\n",
            "Get:36 http://archive.ubuntu.com/ubuntu jammy/main amd64 default-jre-headless amd64 2:1.11-72build2 [3,042 B]\n",
            "Ign:37 http://archive.ubuntu.com/ubuntu jammy-updates/main amd64 openjdk-11-jre amd64 11.0.21+9-0ubuntu1~22.04\n",
            "Get:38 http://archive.ubuntu.com/ubuntu jammy/main amd64 default-jre amd64 2:1.11-72build2 [896 B]\n",
            "Err:37 http://security.ubuntu.com/ubuntu jammy-updates/main amd64 openjdk-11-jre amd64 11.0.21+9-0ubuntu1~22.04\n",
            "  404  Not Found [IP: 185.125.190.39 80]\n",
            "Get:39 http://archive.ubuntu.com/ubuntu jammy/main amd64 libfakeroot amd64 1.28-1ubuntu1 [31.5 kB]\n",
            "Get:40 http://archive.ubuntu.com/ubuntu jammy/main amd64 fakeroot amd64 1.28-1ubuntu1 [60.4 kB]\n",
            "Get:41 http://archive.ubuntu.com/ubuntu jammy/main amd64 fonts-dejavu-core all 2.37-2build1 [1,041 kB]\n",
            "Get:42 http://archive.ubuntu.com/ubuntu jammy/main amd64 fonts-dejavu-extra all 2.37-2build1 [2,041 kB]\n",
            "Get:43 https://developer.download.nvidia.com/compute/cuda/repos/ubuntu2204/x86_64  libcufft-12-3 11.0.12.1-1 [58.6 MB]\n",
            "Get:44 http://archive.ubuntu.com/ubuntu jammy/main amd64 libxxf86dga1 amd64 2:1.1.5-0ubuntu3 [12.6 kB]\n",
            "Get:45 http://archive.ubuntu.com/ubuntu jammy/main amd64 x11-utils amd64 7.7+5build2 [206 kB]\n",
            "Get:46 http://archive.ubuntu.com/ubuntu jammy/main amd64 libatk-wrapper-java all 0.38.0-5build1 [53.1 kB]\n",
            "Get:47 http://archive.ubuntu.com/ubuntu jammy/main amd64 libatk-wrapper-java-jni amd64 0.38.0-5build1 [49.0 kB]\n",
            "Get:48 http://archive.ubuntu.com/ubuntu jammy/main amd64 nvidia-prime all 0.8.17.1 [9,956 B]\n",
            "Get:49 http://archive.ubuntu.com/ubuntu jammy/main amd64 python3-xkit all 0.5.0ubuntu5 [18.5 kB]\n",
            "Get:50 http://archive.ubuntu.com/ubuntu jammy/main amd64 screen-resolution-extra all 0.18.2 [4,396 B]\n",
            "Get:51 http://archive.ubuntu.com/ubuntu jammy-updates/main amd64 systemd-hwe-hwdb all 249.11.5 [3,228 B]\n",
            "Get:52 http://archive.ubuntu.com/ubuntu jammy/main amd64 xcvt amd64 0.1.1-3 [7,140 B]\n",
            "Get:53 http://archive.ubuntu.com/ubuntu jammy/main amd64 xfonts-encodings all 1:1.0.5-0ubuntu2 [578 kB]\n",
            "Get:54 https://developer.download.nvidia.com/compute/cuda/repos/ubuntu2204/x86_64  libcufile-12-3 1.8.1.2-1 [852 kB]\n",
            "Get:55 https://developer.download.nvidia.com/compute/cuda/repos/ubuntu2204/x86_64  libcurand-12-3 10.3.4.107-1 [41.3 MB]\n",
            "Get:56 http://archive.ubuntu.com/ubuntu jammy/main amd64 xfonts-utils amd64 1:7.7+6build2 [94.6 kB]\n",
            "Get:57 http://archive.ubuntu.com/ubuntu jammy/main amd64 xfonts-base all 1:1.0.5 [5,896 kB]\n",
            "Get:58 https://developer.download.nvidia.com/compute/cuda/repos/ubuntu2204/x86_64  libcusolver-12-3 11.5.4.101-1 [77.6 MB]\n",
            "Get:59 https://developer.download.nvidia.com/compute/cuda/repos/ubuntu2204/x86_64  libcusparse-12-3 12.2.0.103-1 [109 MB]\n",
            "Get:60 https://developer.download.nvidia.com/compute/cuda/repos/ubuntu2204/x86_64  libnpp-12-3 12.2.3.2-1 [97.0 MB]\n",
            "Get:61 https://developer.download.nvidia.com/compute/cuda/repos/ubuntu2204/x86_64  libnvjitlink-12-3 12.3.101-1 [15.1 MB]\n",
            "Get:62 https://developer.download.nvidia.com/compute/cuda/repos/ubuntu2204/x86_64  libnvjpeg-12-3 12.3.0.81-1 [2,330 kB]\n",
            "Get:63 https://developer.download.nvidia.com/compute/cuda/repos/ubuntu2204/x86_64  cuda-libraries-12-3 12.3.2-1 [2,602 B]\n",
            "Get:64 https://developer.download.nvidia.com/compute/cuda/repos/ubuntu2204/x86_64  libnvidia-common-550 550.54.14-0ubuntu1 [17.1 kB]\n",
            "Get:65 https://developer.download.nvidia.com/compute/cuda/repos/ubuntu2204/x86_64  libnvidia-compute-550 550.54.14-0ubuntu1 [49.5 MB]\n",
            "Get:66 https://developer.download.nvidia.com/compute/cuda/repos/ubuntu2204/x86_64  libnvidia-gl-550 550.54.14-0ubuntu1 [136 MB]\n",
            "Get:67 https://developer.download.nvidia.com/compute/cuda/repos/ubuntu2204/x86_64  nvidia-kernel-source-550 550.54.14-0ubuntu1 [41.1 MB]\n",
            "Get:68 https://developer.download.nvidia.com/compute/cuda/repos/ubuntu2204/x86_64  nvidia-firmware-550-550.54.14 550.54.14-0ubuntu1 [36.8 MB]\n",
            "Get:69 https://developer.download.nvidia.com/compute/cuda/repos/ubuntu2204/x86_64  nvidia-kernel-common-550 550.54.14-0ubuntu1 [109 kB]\n",
            "Get:70 https://developer.download.nvidia.com/compute/cuda/repos/ubuntu2204/x86_64  nvidia-dkms-550 550.54.14-0ubuntu1 [36.2 kB]\n",
            "Get:71 https://developer.download.nvidia.com/compute/cuda/repos/ubuntu2204/x86_64  libnvidia-extra-550 550.54.14-0ubuntu1 [71.2 kB]\n",
            "Get:72 https://developer.download.nvidia.com/compute/cuda/repos/ubuntu2204/x86_64  nvidia-compute-utils-550 550.54.14-0ubuntu1 [118 kB]\n",
            "Get:73 https://developer.download.nvidia.com/compute/cuda/repos/ubuntu2204/x86_64  libnvidia-decode-550 550.54.14-0ubuntu1 [1,783 kB]\n",
            "Get:74 https://developer.download.nvidia.com/compute/cuda/repos/ubuntu2204/x86_64  libnvidia-encode-550 550.54.14-0ubuntu1 [100 kB]\n",
            "Get:75 https://developer.download.nvidia.com/compute/cuda/repos/ubuntu2204/x86_64  nvidia-utils-550 550.54.14-0ubuntu1 [493 kB]\n",
            "Get:76 https://developer.download.nvidia.com/compute/cuda/repos/ubuntu2204/x86_64  libnvidia-cfg1-550 550.54.14-0ubuntu1 [145 kB]\n",
            "Get:77 https://developer.download.nvidia.com/compute/cuda/repos/ubuntu2204/x86_64  xserver-xorg-video-nvidia-550 550.54.14-0ubuntu1 [1,534 kB]\n",
            "Get:78 https://developer.download.nvidia.com/compute/cuda/repos/ubuntu2204/x86_64  libnvidia-fbc1-550 550.54.14-0ubuntu1 [55.0 kB]\n",
            "Get:79 https://developer.download.nvidia.com/compute/cuda/repos/ubuntu2204/x86_64  nvidia-driver-550 550.54.14-0ubuntu1 [489 kB]\n",
            "Get:80 https://developer.download.nvidia.com/compute/cuda/repos/ubuntu2204/x86_64  cuda-drivers-550 550.54.14-1 [2,546 B]\n",
            "Get:81 https://developer.download.nvidia.com/compute/cuda/repos/ubuntu2204/x86_64  cuda-drivers 550.54.14-1 [2,506 B]\n",
            "Get:82 https://developer.download.nvidia.com/compute/cuda/repos/ubuntu2204/x86_64  cuda-runtime-12-3 12.3.2-1 [2,502 B]\n",
            "Get:83 https://developer.download.nvidia.com/compute/cuda/repos/ubuntu2204/x86_64  cuda-cuobjdump-12-3 12.3.101-1 [175 kB]\n",
            "Get:84 https://developer.download.nvidia.com/compute/cuda/repos/ubuntu2204/x86_64  cuda-cuxxfilt-12-3 12.3.101-1 [190 kB]\n",
            "Get:85 https://developer.download.nvidia.com/compute/cuda/repos/ubuntu2204/x86_64  cuda-cccl-12-3 12.3.101-1 [1,187 kB]\n",
            "Get:86 https://developer.download.nvidia.com/compute/cuda/repos/ubuntu2204/x86_64  cuda-driver-dev-12-3 12.3.101-1 [28.3 kB]\n",
            "Get:87 https://developer.download.nvidia.com/compute/cuda/repos/ubuntu2204/x86_64  cuda-cudart-dev-12-3 12.3.101-1 [993 kB]\n",
            "Get:88 https://developer.download.nvidia.com/compute/cuda/repos/ubuntu2204/x86_64  cuda-nvvm-12-3 12.3.107-1 [19.3 MB]\n",
            "Get:89 https://developer.download.nvidia.com/compute/cuda/repos/ubuntu2204/x86_64  cuda-crt-12-3 12.3.107-1 [77.4 kB]\n",
            "Get:90 https://developer.download.nvidia.com/compute/cuda/repos/ubuntu2204/x86_64  cuda-nvcc-12-3 12.3.107-1 [28.6 MB]\n",
            "Get:91 https://developer.download.nvidia.com/compute/cuda/repos/ubuntu2204/x86_64  cuda-nvprune-12-3 12.3.101-1 [58.6 kB]\n",
            "Get:92 https://developer.download.nvidia.com/compute/cuda/repos/ubuntu2204/x86_64  cuda-compiler-12-3 12.3.2-1 [2,510 B]\n",
            "Get:93 https://developer.download.nvidia.com/compute/cuda/repos/ubuntu2204/x86_64  cuda-profiler-api-12-3 12.3.101-1 [18.5 kB]\n",
            "Get:94 https://developer.download.nvidia.com/compute/cuda/repos/ubuntu2204/x86_64  cuda-nvrtc-dev-12-3 12.3.107-1 [14.5 MB]\n",
            "Get:95 https://developer.download.nvidia.com/compute/cuda/repos/ubuntu2204/x86_64  cuda-opencl-dev-12-3 12.3.101-1 [71.1 kB]\n",
            "Get:96 https://developer.download.nvidia.com/compute/cuda/repos/ubuntu2204/x86_64  libcublas-dev-12-3 12.3.4.1-1 [270 MB]\n",
            "Get:97 https://developer.download.nvidia.com/compute/cuda/repos/ubuntu2204/x86_64  libcufft-dev-12-3 11.0.12.1-1 [117 MB]\n",
            "Get:98 https://developer.download.nvidia.com/compute/cuda/repos/ubuntu2204/x86_64  libcufile-dev-12-3 1.8.1.2-1 [2,432 kB]\n",
            "Get:99 https://developer.download.nvidia.com/compute/cuda/repos/ubuntu2204/x86_64  libcurand-dev-12-3 10.3.4.107-1 [41.7 MB]\n",
            "Get:100 https://developer.download.nvidia.com/compute/cuda/repos/ubuntu2204/x86_64  libcusolver-dev-12-3 11.5.4.101-1 [48.8 MB]\n",
            "Get:101 https://developer.download.nvidia.com/compute/cuda/repos/ubuntu2204/x86_64  libcusparse-dev-12-3 12.2.0.103-1 [113 MB]\n",
            "Get:102 https://developer.download.nvidia.com/compute/cuda/repos/ubuntu2204/x86_64  libnpp-dev-12-3 12.2.3.2-1 [94.2 MB]\n",
            "Get:103 https://developer.download.nvidia.com/compute/cuda/repos/ubuntu2204/x86_64  libnvjitlink-dev-12-3 12.3.101-1 [11.7 MB]\n",
            "Get:104 https://developer.download.nvidia.com/compute/cuda/repos/ubuntu2204/x86_64  libnvjpeg-dev-12-3 12.3.0.81-1 [2,029 kB]\n",
            "Get:105 https://developer.download.nvidia.com/compute/cuda/repos/ubuntu2204/x86_64  cuda-libraries-dev-12-3 12.3.2-1 [2,642 B]\n",
            "Get:106 https://developer.download.nvidia.com/compute/cuda/repos/ubuntu2204/x86_64  cuda-cupti-12-3 12.3.101-1 [16.9 MB]\n",
            "Get:107 https://developer.download.nvidia.com/compute/cuda/repos/ubuntu2204/x86_64  cuda-cupti-dev-12-3 12.3.101-1 [2,604 kB]\n",
            "Get:108 https://developer.download.nvidia.com/compute/cuda/repos/ubuntu2204/x86_64  cuda-nvdisasm-12-3 12.3.101-1 [49.9 MB]\n",
            "Get:109 https://developer.download.nvidia.com/compute/cuda/repos/ubuntu2204/x86_64  cuda-gdb-12-3 12.3.101-1 [4,569 kB]\n",
            "Get:110 https://developer.download.nvidia.com/compute/cuda/repos/ubuntu2204/x86_64  cuda-nvprof-12-3 12.3.101-1 [2,439 kB]\n",
            "Get:111 https://developer.download.nvidia.com/compute/cuda/repos/ubuntu2204/x86_64  cuda-nvtx-12-3 12.3.101-1 [51.4 kB]\n",
            "Get:112 https://developer.download.nvidia.com/compute/cuda/repos/ubuntu2204/x86_64  cuda-sanitizer-12-3 12.3.101-1 [9,122 kB]\n",
            "Get:113 https://developer.download.nvidia.com/compute/cuda/repos/ubuntu2204/x86_64  cuda-command-line-tools-12-3 12.3.2-1 [2,542 B]\n",
            "Get:114 https://developer.download.nvidia.com/compute/cuda/repos/ubuntu2204/x86_64  nsight-compute-2023.3.1 2023.3.1.1-1 [733 MB]\n",
            "Get:115 https://developer.download.nvidia.com/compute/cuda/repos/ubuntu2204/x86_64  cuda-nsight-compute-12-3 12.3.2-1 [4,052 B]\n",
            "Get:116 https://developer.download.nvidia.com/compute/cuda/repos/ubuntu2204/x86_64  nsight-systems-2023.3.3 2023.3.3.42-233333266658v0 [324 MB]\n",
            "Get:117 https://developer.download.nvidia.com/compute/cuda/repos/ubuntu2204/x86_64  cuda-nsight-systems-12-3 12.3.2-1 [3,352 B]\n",
            "Get:118 https://developer.download.nvidia.com/compute/cuda/repos/ubuntu2204/x86_64  cuda-nsight-12-3 12.3.101-1 [119 MB]\n",
            "Get:119 https://developer.download.nvidia.com/compute/cuda/repos/ubuntu2204/x86_64  cuda-nvml-dev-12-3 12.3.101-1 [89.6 kB]\n",
            "Get:120 https://developer.download.nvidia.com/compute/cuda/repos/ubuntu2204/x86_64  cuda-nvvp-12-3 12.3.101-1 [113 MB]\n",
            "Get:121 https://developer.download.nvidia.com/compute/cuda/repos/ubuntu2204/x86_64  cuda-visual-tools-12-3 12.3.2-1 [2,946 B]\n",
            "Get:122 https://developer.download.nvidia.com/compute/cuda/repos/ubuntu2204/x86_64  gds-tools-12-3 1.8.1.2-1 [39.1 MB]\n",
            "Get:123 https://developer.download.nvidia.com/compute/cuda/repos/ubuntu2204/x86_64  cuda-tools-12-3 12.3.2-1 [2,462 B]\n",
            "Get:124 https://developer.download.nvidia.com/compute/cuda/repos/ubuntu2204/x86_64  cuda-documentation-12-3 12.3.101-1 [49.9 kB]\n",
            "Get:125 https://developer.download.nvidia.com/compute/cuda/repos/ubuntu2204/x86_64  cuda-toolkit-12-3 12.3.2-1 [3,276 B]\n",
            "Get:126 https://developer.download.nvidia.com/compute/cuda/repos/ubuntu2204/x86_64  cuda-demo-suite-12-3 12.3.101-1 [3,996 kB]\n",
            "Get:127 https://developer.download.nvidia.com/compute/cuda/repos/ubuntu2204/x86_64  cuda-12-3 12.3.2-1 [2,526 B]\n",
            "Get:128 https://developer.download.nvidia.com/compute/cuda/repos/ubuntu2204/x86_64  cuda 12.3.2-1 [2,470 B]\n",
            "Get:129 https://developer.download.nvidia.com/compute/cuda/repos/ubuntu2204/x86_64  nvidia-settings 550.54.14-0ubuntu1 [946 kB]\n",
            "Fetched 3,171 MB in 51s (62.8 MB/s)\n",
            "E: Failed to fetch http://security.ubuntu.com/ubuntu/pool/main/o/openjdk-lts/openjdk-11-jre_11.0.21%2b9-0ubuntu1%7e22.04_amd64.deb  404  Not Found [IP: 185.125.190.39 80]\n",
            "E: Unable to fetch some archives, maybe run apt-get update or try with --fix-missing?\n"
          ]
        }
      ],
      "source": [
        "# Install CUDA toolkit\n",
        "!apt-get install cuda\n"
      ]
    },
    {
      "cell_type": "markdown",
      "metadata": {
        "id": "dYNMyttvo2KF"
      },
      "source": [
        "**Write Serial Matrix Multiplication Code**"
      ]
    },
    {
      "cell_type": "code",
      "execution_count": 15,
      "metadata": {
        "id": "DcZBQmXJn9Y5"
      },
      "outputs": [],
      "source": [
        "import numpy as np\n",
        "\n",
        "def serial_matrix_multiply(A, B):\n",
        "    return np.dot(A, B)\n",
        "\n",
        "# Example usage\n",
        "matrix_size = 512\n",
        "matrix_A = np.random.rand(matrix_size, matrix_size)\n",
        "matrix_B = np.random.rand(matrix_size, matrix_size)\n",
        "\n",
        "result_serial = serial_matrix_multiply(matrix_A, matrix_B)\n"
      ]
    },
    {
      "cell_type": "markdown",
      "metadata": {
        "id": "YVxRnSh2o-Kn"
      },
      "source": [
        "**Write CUDA Kernel for Matrix Multiplication**"
      ]
    },
    {
      "cell_type": "code",
      "execution_count": 16,
      "metadata": {
        "id": "ff6eSQBJo60v"
      },
      "outputs": [],
      "source": [
        "from numba import cuda\n",
        "\n",
        "@cuda.jit\n",
        "def cuda_matrix_multiply(A, B, result):\n",
        "    i, j = cuda.grid(2)\n",
        "    if i < result.shape[0] and j < result.shape[1]:\n",
        "        result[i, j] = 0\n",
        "        for k in range(A.shape[1]):\n",
        "            result[i, j] += A[i, k] * B[k, j]\n"
      ]
    },
    {
      "cell_type": "markdown",
      "metadata": {
        "id": "cwKBGf-DpYdw"
      },
      "source": [
        "**Measure Execution Time**"
      ]
    },
    {
      "cell_type": "code",
      "execution_count": 17,
      "metadata": {
        "id": "7KTaxBJ-pT7c"
      },
      "outputs": [],
      "source": [
        "import time\n",
        "\n",
        "start_time = time.time()\n",
        "\n",
        "# Perform matrix multiplication here\n",
        "\n",
        "end_time = time.time()\n",
        "execution_time_cuda = end_time - start_time\n"
      ]
    },
    {
      "cell_type": "markdown",
      "metadata": {
        "id": "6RsqQ8JnpgFp"
      },
      "source": [
        "**Test Different Matrix Sizes**"
      ]
    },
    {
      "cell_type": "code",
      "execution_count": 18,
      "metadata": {
        "id": "aTc8mCw1pb_k"
      },
      "outputs": [],
      "source": [
        "sizes = list(range(512, 4097, 512))\n",
        "\n",
        "for size in sizes:\n",
        "    matrix_A = np.random.rand(size, size)\n",
        "    matrix_B = np.random.rand(size, size)\n",
        "\n",
        "    # Perform matrix multiplication and measure execution time\n"
      ]
    },
    {
      "cell_type": "markdown",
      "metadata": {
        "id": "0Ph81pO0qAqe"
      },
      "source": [
        "**Install Necessary Packages**"
      ]
    },
    {
      "cell_type": "code",
      "execution_count": 12,
      "metadata": {
        "id": "4PoHMBfJptKz",
        "colab": {
          "base_uri": "https://localhost:8080/"
        },
        "outputId": "d2b406d6-424d-4247-c9b8-2334dcd9efc4"
      },
      "outputs": [
        {
          "output_type": "stream",
          "name": "stdout",
          "text": [
            "Requirement already satisfied: numba in /usr/local/lib/python3.10/dist-packages (0.58.1)\n",
            "Requirement already satisfied: matplotlib in /usr/local/lib/python3.10/dist-packages (3.7.1)\n",
            "Requirement already satisfied: llvmlite<0.42,>=0.41.0dev0 in /usr/local/lib/python3.10/dist-packages (from numba) (0.41.1)\n",
            "Requirement already satisfied: numpy<1.27,>=1.22 in /usr/local/lib/python3.10/dist-packages (from numba) (1.25.2)\n",
            "Requirement already satisfied: contourpy>=1.0.1 in /usr/local/lib/python3.10/dist-packages (from matplotlib) (1.2.0)\n",
            "Requirement already satisfied: cycler>=0.10 in /usr/local/lib/python3.10/dist-packages (from matplotlib) (0.12.1)\n",
            "Requirement already satisfied: fonttools>=4.22.0 in /usr/local/lib/python3.10/dist-packages (from matplotlib) (4.49.0)\n",
            "Requirement already satisfied: kiwisolver>=1.0.1 in /usr/local/lib/python3.10/dist-packages (from matplotlib) (1.4.5)\n",
            "Requirement already satisfied: packaging>=20.0 in /usr/local/lib/python3.10/dist-packages (from matplotlib) (23.2)\n",
            "Requirement already satisfied: pillow>=6.2.0 in /usr/local/lib/python3.10/dist-packages (from matplotlib) (9.4.0)\n",
            "Requirement already satisfied: pyparsing>=2.3.1 in /usr/local/lib/python3.10/dist-packages (from matplotlib) (3.1.1)\n",
            "Requirement already satisfied: python-dateutil>=2.7 in /usr/local/lib/python3.10/dist-packages (from matplotlib) (2.8.2)\n",
            "Requirement already satisfied: six>=1.5 in /usr/local/lib/python3.10/dist-packages (from python-dateutil>=2.7->matplotlib) (1.16.0)\n"
          ]
        }
      ],
      "source": [
        "!pip install numba matplotlib\n"
      ]
    },
    {
      "cell_type": "markdown",
      "metadata": {
        "id": "w_siJkhRocHz"
      },
      "source": [
        "# Homework3"
      ]
    },
    {
      "cell_type": "code",
      "source": [
        "import time\n",
        "import numpy as np\n",
        "from numba import jit\n",
        "import matplotlib.pyplot as plt\n",
        "\n",
        "# Matrix multiplication kernel (CUDA)\n",
        "@jit(nopython=True)\n",
        "def matrix_mul_cuda(C, A, B):\n",
        "    for row in range(C.shape[0]):\n",
        "        for col in range(C.shape[1]):\n",
        "            tmp_sum = 0.0\n",
        "            for k in range(A.shape[1]):\n",
        "                tmp_sum += A[row, k] * B[k, col]\n",
        "            C[row, col] = tmp_sum\n",
        "\n",
        "def matrix_mul_cpu(A, B):\n",
        "    return np.dot(A, B)\n",
        "\n",
        "def main():\n",
        "    sizes = list(range(512, 4097, 512))\n",
        "    execution_times_cuda = []\n",
        "    execution_times_cpu = []\n",
        "\n",
        "    for size in sizes:\n",
        "        A = np.random.rand(size, size).astype(np.float32)\n",
        "        B = np.random.rand(size, size).astype(np.float32)\n",
        "        C = np.zeros((size, size), dtype=np.float32)\n",
        "\n",
        "        # CUDA\n",
        "        start_time_cuda = time.time()\n",
        "        matrix_mul_cuda(C, A, B)\n",
        "        end_time_cuda = time.time()\n",
        "        execution_times_cuda.append(end_time_cuda - start_time_cuda)\n",
        "\n",
        "        # CPU\n",
        "        start_time_cpu = time.time()\n",
        "        matrix_mul_cpu(A, B)\n",
        "        end_time_cpu = time.time()\n",
        "        execution_times_cpu.append(end_time_cpu - start_time_cpu)\n",
        "\n",
        "    # Print execution times\n",
        "    for size, time_cuda, time_cpu in zip(sizes, execution_times_cuda, execution_times_cpu):\n",
        "        print(f\"Matrix size: {size}x{size}, CUDA time: {time_cuda:.6f} seconds, CPU time: {time_cpu:.6f} seconds\")\n",
        "\n",
        "    # Plot the performance graph\n",
        "    plt.plot(sizes, execution_times_cuda, label='CUDA')\n",
        "    plt.plot(sizes, execution_times_cpu, label='CPU')\n",
        "    plt.xlabel('Matrix Size')\n",
        "    plt.ylabel('Execution Time (seconds)')\n",
        "    plt.title('Matrix Multiplication Performance Comparison (CUDA)')\n",
        "    plt.legend()\n",
        "    plt.show()\n",
        "\n",
        "if __name__ == \"__main__\":\n",
        "    main()\n"
      ],
      "metadata": {
        "colab": {
          "base_uri": "https://localhost:8080/",
          "height": 611
        },
        "id": "PNDzz21AETlR",
        "outputId": "24531412-6222-480d-92bd-a92b3b33b795"
      },
      "execution_count": 13,
      "outputs": [
        {
          "output_type": "stream",
          "name": "stdout",
          "text": [
            "Matrix size: 32x32, CUDA time: 0.360244 seconds, CPU time: 0.003745 seconds\n",
            "Matrix size: 64x64, CUDA time: 0.000454 seconds, CPU time: 0.000052 seconds\n",
            "Matrix size: 96x96, CUDA time: 0.001499 seconds, CPU time: 0.002493 seconds\n",
            "Matrix size: 128x128, CUDA time: 0.003652 seconds, CPU time: 0.000142 seconds\n",
            "Matrix size: 160x160, CUDA time: 0.009912 seconds, CPU time: 0.002670 seconds\n",
            "Matrix size: 192x192, CUDA time: 0.015750 seconds, CPU time: 0.004983 seconds\n",
            "Matrix size: 224x224, CUDA time: 0.036415 seconds, CPU time: 0.007093 seconds\n",
            "Matrix size: 256x256, CUDA time: 0.058531 seconds, CPU time: 0.006213 seconds\n"
          ]
        },
        {
          "output_type": "display_data",
          "data": {
            "text/plain": [
              "<Figure size 640x480 with 1 Axes>"
            ],
            "image/png": "[encoded data removed]"
          },
          "metadata": {}
        }
      ]
    },
    {
      "cell_type": "markdown",
      "metadata": {
        "id": "uMFs-UR_pwXs"
      },
      "source": [
        "# Homework 4: Modify Shared Memory Version of Matrix Multiplication"
      ]
    },
    {
      "cell_type": "code",
      "source": [
        "import time\n",
        "import numpy as np\n",
        "\n",
        "# CUDA matrix multiplication\n",
        "def matrix_mul_cuda(C, A, B):\n",
        "    for i in range(C.shape[0]):\n",
        "        for j in range(C.shape[1]):\n",
        "            tmp_sum = 0.0\n",
        "            for k in range(A.shape[1]):\n",
        "                tmp_sum += A[i, k] * B[k, j]\n",
        "            C[i, j] = tmp_sum\n",
        "\n",
        "# CPU matrix multiplication\n",
        "def matrix_mul_cpu(A, B):\n",
        "    return np.dot(A, B)\n",
        "\n",
        "def main():\n",
        "    sizes = list(range(512, 4097, 512))\n",
        "    for size in sizes:\n",
        "        A = np.random.rand(size, size).astype(np.float32)\n",
        "        B = np.random.rand(size, size).astype(np.float32)\n",
        "        C_cuda = np.zeros((size, size), dtype=np.float32)\n",
        "        C_cpu = np.zeros((size, size), dtype=np.float32)\n",
        "\n",
        "        # CUDA\n",
        "        start_time_cuda = time.time()\n",
        "        matrix_mul_cuda(C_cuda, A, B)\n",
        "        end_time_cuda = time.time()\n",
        "\n",
        "        # CPU\n",
        "        start_time_cpu = time.time()\n",
        "        C_cpu = matrix_mul_cpu(A, B)\n",
        "        end_time_cpu = time.time()\n",
        "\n",
        "        # Check correctness\n",
        "        np.testing.assert_allclose(C_cuda, C_cpu, rtol=1e-5, atol=1e-8)\n",
        "\n",
        "        # Print execution times\n",
        "        print(f\"Matrix size: {size}x{size}, CUDA time: {end_time_cuda - start_time_cuda:.6f} seconds, \"\n",
        "              f\"CPU time: {end_time_cpu - start_time_cpu:.6f} seconds (Correct)\")\n",
        "\n",
        "if __name__ == \"__main__\":\n",
        "    main()\n"
      ],
      "metadata": {
        "colab": {
          "base_uri": "https://localhost:8080/"
        },
        "id": "nlxu77AvElc3",
        "outputId": "853cafcd-29bb-4279-8ef1-a361a2c47cbb"
      },
      "execution_count": 14,
      "outputs": [
        {
          "output_type": "stream",
          "name": "stdout",
          "text": [
            "Matrix size: 32x32, CUDA time: 0.024949 seconds, CPU time: 0.000044 seconds (Correct)\n",
            "Matrix size: 64x64, CUDA time: 0.158026 seconds, CPU time: 0.000099 seconds (Correct)\n",
            "Matrix size: 96x96, CUDA time: 0.522381 seconds, CPU time: 0.000871 seconds (Correct)\n",
            "Matrix size: 128x128, CUDA time: 1.296896 seconds, CPU time: 0.000184 seconds (Correct)\n",
            "Matrix size: 160x160, CUDA time: 2.575309 seconds, CPU time: 0.000296 seconds (Correct)\n",
            "Matrix size: 192x192, CUDA time: 5.226057 seconds, CPU time: 0.000926 seconds (Correct)\n",
            "Matrix size: 224x224, CUDA time: 6.444626 seconds, CPU time: 0.000643 seconds (Correct)\n",
            "Matrix size: 256x256, CUDA time: 10.679608 seconds, CPU time: 0.000777 seconds (Correct)\n"
          ]
        }
      ]
    }
  ],
  "metadata": {
    "accelerator": "GPU",
    "colab": {
      "gpuType": "T4",
      "provenance": []
    },
    "kernelspec": {
      "display_name": "Python 3",
      "name": "python3"
    },
    "language_info": {
      "name": "python"
    }
  },
  "nbformat": 4,
  "nbformat_minor": 0
}